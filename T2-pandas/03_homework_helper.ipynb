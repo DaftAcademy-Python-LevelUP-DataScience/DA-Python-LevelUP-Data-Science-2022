{
 "cells": [
  {
   "cell_type": "markdown",
   "metadata": {},
   "source": [
    "# Praca domowa 3\n",
    "\n",
    "W tej pracy domowej w końcu będziesz mieć prawdziwą, eksperymentalną pracę data scientista!\n",
    "Pracujemy na dwóch zbiorach danych.\n",
    "Przydadzą Ci się wskazówki jak pracować z dużymi/niestandardowymi zbiorami danych.\n",
    "\n",
    "## Wikipedia clickstream\n",
    "\n",
    "Ten [zbiór danych](https://dumps.wikimedia.org/other/clickstream/readme.html) zawiera informacje na temat tego jak przemieszczają się użytkownicy na stronach Wikipedii.\n",
    "Pracować będziemy [**NA DANYCH Z MARCA**](https://dumps.wikimedia.org/other/clickstream/2022-03/) tego roku.\n",
    "Format danych [znajdziesz tutaj](https://meta.wikimedia.org/wiki/Research:Wikipedia_clickstream#Format).\n",
    "\n",
    "## Stack Exchange\n",
    "\n",
    "Drugim datasetem będą informacje na temat postów (i nie tylko) ze [Stacka](https://archive.org/download/stackexchange)\n",
    "Okazuje się, że wszystkie posty ze stack overflow i pokrewnych są dostępne do analizy!\n",
    "My skupimy się na danych ze stacka dotyczącego [**podróży**](https://archive.org/download/stackexchange/travel.stackexchange.com.7z)!\n",
    "\n",
    "Podpowiedź do zadania z `UpVotes`, `DownVotes`.\n",
    "Zwróć uwagę na kolumnę `VoteTypeId` w ramce danych `Votes`.\n",
    "Jest tam informacja na temat typu głosu, każde ID odpowiada innemu typowi głosu.\n",
    "Informacje na temat tego co jest upvote, co jest downvote, jaka odpowiedź została zaakceptowana przez pytającego na przykład [znajdziesz tutaj](https://meta.stackexchange.com/questions/2677/database-schema-documentation-for-the-public-data-dump-and-sede).\n",
    "\n",
    "![](images/votes.png)\n"
   ]
  },
  {
   "cell_type": "markdown",
   "metadata": {},
   "source": []
  }
 ],
 "metadata": {
  "language_info": {
   "name": "python"
  },
  "orig_nbformat": 4
 },
 "nbformat": 4,
 "nbformat_minor": 2
}
